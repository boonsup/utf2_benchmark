# %%
# UTF-2.0 Reproducible Benchmark Prototype
# Author: Boonsup Waikham | UTF-2.0 Beta | 2025-10-06

import numpy as np
import pandas as pd
import matplotlib.pyplot as plt

# --- Simulation Parameters ---
timesteps = 1000
dt = 0.01
time = np.arange(0, timesteps*dt, dt)

# Placeholder constants (can later be fitted to physical data)
alpha0 = 0.001   # base conversion efficiency
beta0 = 0.6      # base transduction efficiency
lambda0 = 0.1    # base Lyapunov exponent

# --- Operator Dynamics (toy model) ---
alpha = alpha0 * (1 + 0.1*np.sin(2*np.pi*time/5))
beta  = beta0 * (1 - 0.05*np.cos(2*np.pi*time/10))
lam   = lambda0 * (1 + 0.2*(beta/beta0))

# Derived energy conservation constraint (normalized)
E_T = alpha
E_D = beta
E_F = np.exp(lam*time) / np.exp(lam*time).max()
E_total = E_T + E_D + E_F
E_total /= E_total.max()

# --- Export CSV ---
df = pd.DataFrame({
    "time": time,
    "alpha": alpha,
    "beta": beta,
    "lambda": lam,
    "E_total": E_total
})
df.to_csv("results_utf.csv", index=False)
print("✅ UTF Benchmark Results saved to results_utf.csv")

# --- Plot Results ---
plt.figure(figsize=(8,5))
plt.plot(time, alpha, label='α (Transmutation)')
plt.plot(time, beta, label='β (Transduction)')
plt.plot(time, lam, label='λ (Cascade)')
plt.xlabel('Time')
plt.ylabel('Metric Value')
plt.title('UTF-2.0 Operator Benchmark')
plt.legend()
plt.grid(True)
plt.tight_layout()
plt.savefig("utf_fig1_coupling.png", dpi=300)
plt.show()
