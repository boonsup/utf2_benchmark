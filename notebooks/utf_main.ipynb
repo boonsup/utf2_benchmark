# %% [markdown]
# # 🌐 UTF-2.0 — Unified Transmutation Framework
# ---
# **Author:** Boonsup Waikham  
# **Version:** 2.0.0-alpha  
# **Purpose:** Reproducible benchmark harness for the T̂–D̂–F̂ operator suite.
# ---
# This notebook runs a full benchmark:
# 1. Loads UTF operators
# 2. Runs stochastic tuning of F̂ chaos kernel
# 3. Logs α, β, λ metrics
# 4. Plots convergence and stability regions
# 5. Exports results + metadata for Zenodo reproducibility

# %% [code]
import os, json, numpy as np, pandas as pd, matplotlib.pyplot as plt
from datetime import datetime
from pathlib import Path

import os, sys 

project_root = os.path.abspath(os.path.join(os.path.dirname(__file__), '..'))
sys.path.insert(0, project_root)

# local imports
from src.utf.operators import Transmutor, Transducer, Transfuser, UTFSimulation

# ensure reproducible directories
os.makedirs("data", exist_ok=True)
os.makedirs("figures", exist_ok=True)

# %% [markdown]
# ## 1️⃣ Initialize Operators and Simulation

# %% [code]
utf = UTFSimulation()
print(f"Initialized UTFSimulation at {datetime.now().isoformat()}")
print(f"Operators: T̂={utf.T}, D̂={utf.D}, F̂={utf.F}")

# %% [markdown]
# ## 2️⃣ Monte-Carlo Sweep for F̂-Kernel Stability
# We randomly sample `(r, tolerance, adapt)` parameters for the logistic-chaotic kernel,
# running small simulations to test energy-boundedness and Lyapunov consistency.

# %% [code]
def monte_carlo_sweep(n_samples=100, seed=42):
    np.random.seed(seed)
    results = []
    for i in range(n_samples):
        r = np.random.uniform(3.5, 3.9)
        tol = np.random.uniform(0.05, 0.15)
        adapt = np.random.uniform(0.0005, 0.002)
        res = utf.F.run_kernel(r=r, tolerance=tol, adapt=adapt)
        results.append({
            "r": r,
            "tolerance": tol,
            "adapt": adapt,
            "passed": res["passed"],
            "mean_energy": res["mean_energy"],
            "max_drift": res["max_drift"]
        })
    df = pd.DataFrame(results)
    df.to_csv("data/f_sweep_results.csv", index=False)
    print(f"✅ Monte-Carlo sweep complete → data/f_sweep_results.csv ({len(df)} samples)")
    return df

results_df = monte_carlo_sweep(n_samples=200)

# %% [markdown]
# ## 3️⃣ Stability Visualization

# %% [code]
def plot_stability_map(df):
    plt.figure(figsize=(8,6))
    scatter = plt.scatter(
        df["r"], df["tolerance"],
        c=df["mean_energy"], cmap="viridis", s=50, alpha=0.8
    )
    plt.colorbar(scatter, label="Mean Energy ⟨E⟩")
    plt.title("F̂ Kernel Stability Map (Monte-Carlo)")
    plt.xlabel("r parameter")
    plt.ylabel("tolerance")
    plt.grid(True, alpha=0.3)
    out_path = "figures/f_sweep_results.png"
    plt.savefig(out_path, dpi=200, bbox_inches="tight")
    print(f"📈 Saved → {out_path}")
    return out_path

plot_stability_map(results_df)

# %% [markdown]
# ## 4️⃣ Compute α, β, λ Benchmarks
# α: conversion efficiency (T̂)  
# β: transduction ratio (D̂)  
# λ: mean Lyapunov exponent (F̂)

# %% [code]
bench = utf.run()
alpha = np.mean(bench["alpha"])
beta = np.mean(bench["beta"])
lam = np.mean(bench["lambda"])

print(f"ᾱ={alpha:.4f}, β̄={beta:.3f}, λ̄={lam:.3f}")
Path("data/f_tuning_history.csv").write_text(
    f"timestamp,alpha,beta,lambda\n{datetime.utcnow().isoformat()},{alpha},{beta},{lam}\n",
    encoding="utf-8"
)

# %% [markdown]
# ## 5️⃣ Chaos-Kernel Drift Plot

# %% [code]
def plot_energy_trace():
    E0 = utf.F.last_trace0
    E1 = utf.F.last_trace1
    steps = np.arange(len(E0))
    plt.figure(figsize=(8,4))
    plt.plot(steps, E0, label="E₀(t)", color="cyan")
    plt.plot(steps, E1, label="E₁(t)", color="magenta", alpha=0.7)
    plt.axhline(np.mean(E0[200:]), color="gray", linestyle="--", alpha=0.6)
    plt.title("F̂ Chaos Energy Drift Trace")
    plt.xlabel("Iteration step")
    plt.ylabel("Energy (x²)")
    plt.legend()
    out_path = "figures/f_chaos_kernel.png"
    plt.savefig(out_path, dpi=200, bbox_inches="tight")
    print(f"📊 Energy trace saved → {out_path}")
    return out_path

plot_energy_trace()

# %% [markdown]
# ## 6️⃣ Metadata & Zenodo Prep

# %% [code]
meta = {
    "timestamp": datetime.utcnow().isoformat(),
    "git_commit": os.popen("git rev-parse --short HEAD").read().strip() or "unknown",
    "zenodo_doi": json.load(open("zenodo.json"))["metadata"].get("doi", "unassigned"),
    "arxiv_version": "v0",
    "mean_alpha": alpha,
    "mean_beta": beta,
    "mean_lambda": lam,
}

with open("data/utf_metadata.json", "w", encoding="utf-8") as f:
    json.dump(meta, f, indent=2)

print("🧾 Metadata stored → data/utf_metadata.json")

# %% [markdown]
# ## 7️⃣ Auto-Embed Plots in README (optional local call)

# %% [code]
from scripts.auto_embed_figures import update_readme
update_readme()

# %% [markdown]
# ---
# ✅ **UTF-2.0 benchmark complete**  
# Results saved under:
# - `data/f_sweep_results.csv`
# - `data/f_tuning_history.csv`
# - `data/utf_metadata.json`
# - `figures/`
# ---
# Next: commit & push → GitHub Release → Zenodo Auto-Sync workflow.
