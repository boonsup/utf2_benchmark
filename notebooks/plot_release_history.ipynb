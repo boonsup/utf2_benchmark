# %% [markdown]
# # 📊 UTFv2 Release Provenance Timeline
# Visualize DOI evolution, environment transitions (test → sandbox → production),
# and release frequency from `data/release_history.csv`.

# %% [code]
import pandas as pd
import matplotlib.pyplot as plt
import matplotlib.dates as mdates
from pathlib import Path
from datetime import datetime

# Load release history
csv_path = Path("data/release_history.csv")
if not csv_path.exists():
    raise FileNotFoundError("❌ No release_history.csv found. Run build_release_dashboard.py first.")

df = pd.read_csv(csv_path)
if df.empty:
    raise ValueError("⚠️ release_history.csv is empty — no data to plot.")

# Convert dates to datetime objects
df["publication_date"] = pd.to_datetime(df["publication_date"], errors="coerce")
df = df.sort_values("publication_date")

# Map environment colors
env_colors = {
    "test": "gray",
    "sandbox": "orange",
    "production": "blue",
    "unknown": "lightgray",
}

# %% [markdown]
# ## 🧭 DOI Growth over Time

# %% [code]
plt.figure(figsize=(10, 4))
plt.plot(df["publication_date"], range(1, len(df) + 1), marker="o", color="mediumseagreen")
plt.title("Cumulative DOI Count over Time")
plt.xlabel("Publication Date")
plt.ylabel("Cumulative Releases")
plt.grid(True, linestyle="--", alpha=0.5)
plt.tight_layout()
plt.show()

# %% [markdown]
# ## 🌈 Environment Evolution Timeline

# %% [code]
plt.figure(figsize=(10, 5))
for env, color in env_colors.items():
    subset = df[df["environment"] == env]
    plt.scatter(
        subset["publication_date"],
        [env] * len(subset),
        label=env.capitalize(),
        color=color,
        s=100,
        edgecolor="black"
    )
plt.gca().xaxis.set_major_formatter(mdates.DateFormatter("%Y-%m-%d"))
plt.title("Environment Transitions across Releases")
plt.xlabel("Publication Date")
plt.ylabel("Environment")
plt.legend(title="Deployment Stage")
plt.grid(True, linestyle=":", alpha=0.5)
plt.tight_layout()
plt.show()

# %% [markdown]
# ## 🔗 DOI Density per Environment

# %% [code]
env_counts = df["environment"].value_counts()
plt.figure(figsize=(6, 4))
env_counts.plot(kind="bar", color=[env_colors.get(e, "gray") for e in env_counts.index])
plt.title("Releases per Environment Stage")
plt.ylabel("Number of Releases")
plt.xlabel("Environment")
plt.xticks(rotation=0)
plt.tight_layout()
plt.show()

# %% [markdown]
# ## 📅 Release Table Snapshot

# %% [code]
from IPython.display import display, Markdown
display(Markdown("### 📜 Current Release Ledger"))
display(df[["version", "doi", "environment", "commit", "publication_date"]])
